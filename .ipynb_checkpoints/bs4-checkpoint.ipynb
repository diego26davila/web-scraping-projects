{
 "cells": [
  {
   "cell_type": "code",
   "execution_count": 2,
   "id": "1490ac4a-ea05-4f32-8f84-1b8e1620c5cc",
   "metadata": {},
   "outputs": [],
   "source": [
    "import requests\n",
    "from bs4 import BeautifulSoup"
   ]
  },
  {
   "cell_type": "markdown",
   "id": "d77b9e3c-63f6-415d-a20b-6b1fd29038f6",
   "metadata": {},
   "source": [
    "Solicitud y respuesta del servidor"
   ]
  },
  {
   "cell_type": "code",
   "execution_count": 3,
   "id": "f53a4af3-e2c2-4a55-b130-a8b9044bbf1c",
   "metadata": {},
   "outputs": [],
   "source": [
    "url = \"https://stackoverflow.com/questions\"\n",
    "http_headers = {\n",
    "                \"user-agent\": \"Mozilla/5.0 (Windows NT 10.0; Win64; x64) AppleWebKit/537.36 (KHTML, like Gecko) \\\n",
    "                               Chrome/80.0.3987.149 Safari/537.36\"\n",
    "                }\n",
    "\n",
    "respuesta = requests.get(url, headers = http_headers)"
   ]
  },
  {
   "cell_type": "code",
   "execution_count": 14,
   "id": "65f54bb0-69e6-4000-a6ad-163e642ba90b",
   "metadata": {},
   "outputs": [],
   "source": [
    "soup = BeautifulSoup(respuesta.text)\n",
    "contenedor_de_preguntas = soup.find(id=\"questions\")\n",
    "lista_de_preguntas = contenedor_de_preguntas.find_all(\"div\", class_=\"s-post-summary--content\")"
   ]
  },
  {
   "cell_type": "code",
   "execution_count": null,
   "id": "37e382a0-d957-4cf1-9cd1-e8d9a9b470f0",
   "metadata": {},
   "outputs": [],
   "source": [
    "for pregunta in lista_de_preguntas:\n",
    "    texto_pregunta = pregunta.find(\"h3\").text\n",
    "    descripcion_pregunta = pregunta.find(class_=\"s-post-summary--content-excerpt\").text\n",
    "    descripcion_pregunta = descripcion_pregunta.replace(\"\\n\", \"\").replace(\"\\r\", \"\").strip()\n",
    "    print(texto_pregunta, descripcion_pregunta)"
   ]
  },
  {
   "cell_type": "markdown",
   "id": "f18f9bb8-1746-4944-8060-1e1385c5d888",
   "metadata": {},
   "source": [
    "Si no hubiese existido la class \"s-post-summary...\""
   ]
  },
  {
   "cell_type": "code",
   "execution_count": 42,
   "id": "85cd8695-cd4d-40c2-b020-81d82d8264dc",
   "metadata": {},
   "outputs": [
    {
     "name": "stdout",
     "output_type": "stream",
     "text": [
      "\n",
      "R: using mapply for a function of two vectors\n",
      "\n",
      "I have an R function that calculates the Hamming distance of two vectors:Hamming = function(x,y){get_dist = sum(x != y, na.rm=TRUE)return(get_dist)}that I would like to apply to every row of two ...\n",
      "\n",
      "How to configure rest controller to accept a path variable that is dynamice?\n",
      "\n",
      "I have an api call that performs a get like:http://localhost/foo/barCodes?0=XXX&1=ZZZ?2=YYYIt can be more or less depending on the user's actions..For the backend Restcontroller, initially i ...\n",
      "\n",
      "Python not finding module for personal class\n",
      "\n",
      "I'm having a module issue with a custom class I wrote for calulating fuzzy sets. All of my files are in the same directory and this driver (attached) will access the fuzzyelements.py class but not the ...\n",
      "\n",
      "How do you Use jQuery with Node Express App POST\n",
      "\n",
      "I am trying to simply use jQuery in my npm project on the server side.I want to be able to change the values in my HTML/set them via my database.But i cannot for the life of me figure out how to ...\n",
      "\n",
      "Problems whit rails new project\n",
      "\n",
      "my problem is when i run rails new project its not the first time that i runned. but for some reason i get back this<internal:/usr/share/rubygems/rubygems/core_ext/kernel_require.rb>:85:in `...\n",
      "\n",
      "why does the ball stay out of the canvas?\n",
      "\n",
      "Although i put the square and the circle in an absolute position and the game_border in a relative position it doesn't work , it still out of the canvas,what should i do ?here is the code :<body&...\n",
      "\n",
      "Anylogic: Understanding the difference between shapes, walls and visibility\n",
      "\n",
      "I am trying to understand how shapes, walls and visibility in annylogic work. I am designing a store with various different work stations. I use 3d shapes to denote these work stations. I then put ...\n",
      "\n",
      "ACL HAPROXY (check servers UP and DOWN) and redirect traffic\n",
      "\n",
      "can anyone help me?How to create an ACL to use the backup server if a server goes DOWN.So, if the two backend servers are UP, I use the registered servers. If one (only one) becomes unavailable, ...\n",
      "\n",
      "Ignoring preexisting data in Spark structured streaming\n",
      "\n",
      "I have a Spark stream that process files in an S3 prefix. The issue is that there are many TBs of data already in this prefix, meaning the EMR cluster underneath Spark is getting throttled trying to ...\n",
      "\n",
      "Divide multiple columns by a fix number in pandas\n",
      "\n",
      "How can I divide multiple columns by a fixed number?   A    B    C       D0  1  100     2000  101  2  200     3000  002  3  300     4000  203  4  400     5000  404  5  500     4000  245  6  600 ...\n",
      "\n",
      "Query para obtener datos de tablas en relación N a N\n",
      "\n",
      "De 2 tablas en relación muchos a muchos, se tiene:Se necesita obtener los siguientes datos:Todos los trabajos de los productos que poseen trabajos de id 1 y 2 (por ejemplo).Como es relación N a N, ...\n",
      "\n",
      "Apps-script function with dynamic parameter\n",
      "\n",
      "I am testing the app script platform and I have a doubt when using this code called from HTML file:JSON.parse(<?= JSON.stringify(getDataFromSheet(\"tyreUse\", \"valueSearched\")); ?...\n",
      "\n",
      "error on search image in python image_match library\n",
      "\n",
      "I'm using python image_match library. I need to use search_image method of this library. but when I se this method I got the below error:Traceback (most recent call last):  File \"/var/www/html/...\n",
      "\n",
      "OMException: No meta factory found for feature 'dom';\n",
      "\n",
      "I am working on a SOAP client (Dynamic Dispatch Client) and I am running into an error when trying to execute the call after the JAR is created.  I am using a shaded JAR to include all dependencies ...\n",
      "\n",
      "Set image as src to an image html element after fetching it with fetch\n",
      "\n",
      "I try to fetch an image protected by Bearer token and I want to set it to the src property of an image element var headers = new Headers();  headers.append(\"Authorization\", \"Bearer &...\n"
     ]
    }
   ],
   "source": [
    "for pregunta in lista_de_preguntas:\n",
    "    html_pregunta = pregunta.find(\"h3\")\n",
    "\n",
    "    texto_pregunta = html_pregunta.text\n",
    "    descripcion_pregunta = html_pregunta.find_next_sibling(\"div\").text.replace(\"\\n\",\"\").replace(\"\\r\",\"\").strip()\n",
    "    \n",
    "    print(texto_pregunta)\n",
    "    print(descripcion_pregunta)"
   ]
  }
 ],
 "metadata": {
  "kernelspec": {
   "display_name": "web-scrapping:Python",
   "language": "python",
   "name": "conda-env-web-scrapping-py"
  },
  "language_info": {
   "codemirror_mode": {
    "name": "ipython",
    "version": 3
   },
   "file_extension": ".py",
   "mimetype": "text/x-python",
   "name": "python",
   "nbconvert_exporter": "python",
   "pygments_lexer": "ipython3",
   "version": "3.10.2"
  }
 },
 "nbformat": 4,
 "nbformat_minor": 5
}
