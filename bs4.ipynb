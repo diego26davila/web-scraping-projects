{
 "cells": [
  {
   "cell_type": "code",
   "execution_count": 1,
   "id": "1490ac4a-ea05-4f32-8f84-1b8e1620c5cc",
   "metadata": {},
   "outputs": [],
   "source": [
    "import requests\n",
    "from bs4 import BeautifulSoup"
   ]
  },
  {
   "cell_type": "markdown",
   "id": "d77b9e3c-63f6-415d-a20b-6b1fd29038f6",
   "metadata": {},
   "source": [
    "Solicitud y respuesta del servidor"
   ]
  },
  {
   "cell_type": "code",
   "execution_count": 11,
   "id": "f53a4af3-e2c2-4a55-b130-a8b9044bbf1c",
   "metadata": {},
   "outputs": [],
   "source": [
    "url = \"https://stackoverflow.com/questions\"\n",
    "http_headers = {\n",
    "                \"user-agent\": \"Mozilla/5.0 (Windows NT 10.0; Win64; x64) AppleWebKit/537.36 (KHTML, like Gecko) \\\n",
    "                               Chrome/80.0.3987.149 Safari/537.36\"\n",
    "                }\n",
    "\n",
    "respuesta = requests.get(url, headers = http_headers)"
   ]
  },
  {
   "cell_type": "code",
   "execution_count": 19,
   "id": "65f54bb0-69e6-4000-a6ad-163e642ba90b",
   "metadata": {},
   "outputs": [],
   "source": [
    "soup = BeautifulSoup(respuesta.text)\n",
    "contenedor_de_preguntas = soup.find(id=\"questions\")\n",
    "lista_de_preguntas = contenedor_de_preguntas.find_all(\"div\", class_=\"s-post-summary--content\")"
   ]
  },
  {
   "cell_type": "code",
   "execution_count": null,
   "id": "37e382a0-d957-4cf1-9cd1-e8d9a9b470f0",
   "metadata": {},
   "outputs": [],
   "source": [
    "for pregunta in lista_de_preguntas:\n",
    "    texto_pregunta = pregunta.find(\"h3\").text\n",
    "    descripcion_pregunta = pregunta.find(class_=\"s-post-summary--content-excerpt\").text\n",
    "    descripcion_pregunta = descripcion_pregunta.replace(\"\\n\", \"\").replace(\"\\r\", \"\").strip()\n",
    "    print(texto_pregunta, descripcion_pregunta)"
   ]
  },
  {
   "cell_type": "markdown",
   "id": "f18f9bb8-1746-4944-8060-1e1385c5d888",
   "metadata": {},
   "source": [
    "Si no hubiese existido la class \"s-post-summary...\""
   ]
  },
  {
   "cell_type": "code",
   "execution_count": null,
   "id": "85cd8695-cd4d-40c2-b020-81d82d8264dc",
   "metadata": {},
   "outputs": [],
   "source": [
    "for pregunta in lista_de_preguntas:\n",
    "    html_pregunta = pregunta.find(\"h3\")\n",
    "\n",
    "    texto_pregunta = html_pregunta.text\n",
    "    descripcion_pregunta = html_pregunta.find_next_sibling(\"div\").text.replace(\"\\n\",\"\").replace(\"\\r\",\"\").strip()\n",
    "    \n",
    "    print(texto_pregunta)\n",
    "    print(descripcion_pregunta)"
   ]
  },
  {
   "cell_type": "code",
   "execution_count": 20,
   "id": "f8cc8d23-4845-4030-aecf-9fe0a9d2daa1",
   "metadata": {},
   "outputs": [],
   "source": [
    "url = \"https://www.amazon.com/s?i=computers-intl-ship&bbn=16225007011&rh=n%3A16225007011%2Cn%3A13896617011%2Cn%3A565108&dc&language=es&qid=1645215496&rnid=13896617011&ref=sr_nr_n_2\"\n",
    "http_headers = {\n",
    "                \"user-agent\": \"Mozilla/5.0 (Windows NT 10.0; Win64; x64) AppleWebKit/537.36 (KHTML, like Gecko) \\\n",
    "                               Chrome/80.0.3987.149 Safari/537.36\"\n",
    "                }\n",
    "\n",
    "respuesta = requests.get(url, headers = http_headers)"
   ]
  },
  {
   "cell_type": "code",
   "execution_count": 22,
   "id": "3525c3db-d3a8-48e9-9ade-cb5b2cc741cb",
   "metadata": {},
   "outputs": [
    {
     "name": "stdout",
     "output_type": "stream",
     "text": [
      "<!--\n",
      "        To discuss automated access to Amazon data please contact api-services-support@amazon.com.\n",
      "        For information about migrating to our APIs refer to our Marketplace APIs at https://developer.amazonservices.com/ref=rm_5_sv, or our Product Advertising API at https://affiliate-program.amazon.com/gp/advertising/api/detail/main.html/ref=rm_5_ac for advertising use cases.\n",
      "-->\n",
      "<!DOCTYPE html>\n",
      "<html>\n",
      " <head>\n",
      "  <meta charset=\"utf-8\"/>\n",
      "  <meta content=\"ie=edge\" http-equiv=\"x-ua-compatible\"/>\n",
      "  <meta content=\"width=device-width, initial-scale=1, shrink-to-fit=no\" name=\"viewport\"/>\n",
      "  <title>\n",
      "   Sorry! Something went wrong!\n",
      "  </title>\n",
      "  <style>\n",
      "   html, body {\n",
      "    padding: 0;\n",
      "    margin: 0\n",
      "  }\n",
      "\n",
      "  img {\n",
      "    border: 0\n",
      "  }\n",
      "\n",
      "  #a {\n",
      "    background: #232f3e;\n",
      "    padding: 11px 11px 11px 192px\n",
      "  }\n",
      "\n",
      "  #b {\n",
      "    position: absolute;\n",
      "    left: 22px;\n",
      "    top: 12px\n",
      "  }\n",
      "\n",
      "  #c {\n",
      "    position: relative;\n",
      "    max-width: 800px;\n",
      "    padding: 0 40px 0 0\n",
      "  }\n",
      "\n",
      "  #e, #f {\n",
      "    height: 35px;\n",
      "    border: 0;\n",
      "    font-size: 1em\n",
      "  }\n",
      "\n",
      "  #e {\n",
      "    width: 100%;\n",
      "    margin: 0;\n",
      "    padding: 0 10px;\n",
      "    border-radius: 4px 0 0 4px\n",
      "  }\n",
      "\n",
      "  #f {\n",
      "    cursor: pointer;\n",
      "    background: #febd69;\n",
      "    font-weight: bold;\n",
      "    border-radius: 0 4px 4px 0;\n",
      "    -webkit-appearance: none;\n",
      "    position: absolute;\n",
      "    top: 0;\n",
      "    right: 0;\n",
      "    padding: 0 12px\n",
      "  }\n",
      "\n",
      "  @media (max-width: 500px) {\n",
      "    #a {\n",
      "      padding: 55px 10px 10px\n",
      "    }\n",
      "\n",
      "    #b {\n",
      "      left: 6px\n",
      "    }\n",
      "  }\n",
      "\n",
      "  #g {\n",
      "    text-align: center;\n",
      "    margin: 30px 0\n",
      "  }\n",
      "\n",
      "  #g img {\n",
      "    max-width: 90%\n",
      "  }\n",
      "\n",
      "  #d {\n",
      "    display: none\n",
      "  }\n",
      "\n",
      "  #d[src] {\n",
      "    display: inline\n",
      "  }\n",
      "  </style>\n",
      " </head>\n",
      " <body>\n",
      "  <a href=\"/ref=cs_503_logo\">\n",
      "   <img alt=\"Amazon.com\" id=\"b\" src=\"https://images-na.ssl-images-amazon.com/images/G/01/error/logo._TTD_.png\"/>\n",
      "  </a>\n",
      "  <form accept-charset=\"utf-8\" action=\"/s\" id=\"a\" method=\"GET\" role=\"search\">\n",
      "   <div id=\"c\">\n",
      "    <input id=\"e\" name=\"field-keywords\" placeholder=\"Search\"/>\n",
      "    <input name=\"ref\" type=\"hidden\" value=\"cs_503_search\"/>\n",
      "    <input id=\"f\" type=\"submit\" value=\"Go\"/>\n",
      "   </div>\n",
      "  </form>\n",
      "  <div id=\"g\">\n",
      "   <div>\n",
      "    <a href=\"/ref=cs_503_link\">\n",
      "     <img alt=\"Sorry! Something went wrong on our end. Please go back and try again or go to Amazon's home page.\" src=\"https://images-na.ssl-images-amazon.com/images/G/01/error/500_503.png\"/>\n",
      "    </a>\n",
      "   </div>\n",
      "   <a href=\"/dogsofamazon/ref=cs_503_d\" rel=\"noopener noreferrer\" target=\"_blank\">\n",
      "    <img alt=\"Dogs of Amazon\" id=\"d\"/>\n",
      "   </a>\n",
      "   <script>\n",
      "    document.getElementById(\"d\").src = \"https://images-na.ssl-images-amazon.com/images/G/01/error/\" + (Math.floor(Math.random() * 43) + 1) + \"._TTD_.jpg\";\n",
      "   </script>\n",
      "  </div>\n",
      " </body>\n",
      "</html>\n",
      "\n"
     ]
    }
   ],
   "source": [
    "soup = BeautifulSoup(respuesta.text)\n",
    "print(soup.prettify())"
   ]
  }
 ],
 "metadata": {
  "kernelspec": {
   "display_name": "web-scrapping:Python",
   "language": "python",
   "name": "conda-env-web-scrapping-py"
  },
  "language_info": {
   "codemirror_mode": {
    "name": "ipython",
    "version": 3
   },
   "file_extension": ".py",
   "mimetype": "text/x-python",
   "name": "python",
   "nbconvert_exporter": "python",
   "pygments_lexer": "ipython3",
   "version": "3.10.2"
  }
 },
 "nbformat": 4,
 "nbformat_minor": 5
}
