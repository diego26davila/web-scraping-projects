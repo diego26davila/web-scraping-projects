{
 "cells": [
  {
   "cell_type": "code",
   "execution_count": 1,
   "id": "71b9023e-3b01-40e8-9ea7-1519bd8c4ded",
   "metadata": {},
   "outputs": [],
   "source": [
    "import requests\n",
    "from lxml import html"
   ]
  },
  {
   "cell_type": "markdown",
   "id": "90fd45b6-1c0d-43d9-b51b-da422da4de6f",
   "metadata": {},
   "source": [
    "Solicitud y respuesta del servidor"
   ]
  },
  {
   "cell_type": "code",
   "execution_count": 9,
   "id": "f77fdf1f-687f-4758-8058-b03e57648005",
   "metadata": {},
   "outputs": [],
   "source": [
    "url = \"https://www.wikipedia.org/\"\n",
    "http_headers = { \n",
    "                \"user-agent\": \"Mozilla/5.0 (Windows NT 10.0; Win64; x64) AppleWebKit/537.36 (KHTML, like Gecko) \\\n",
    "                 Chrome/80.0.3987.149 Safari/537.36\" #Este encabezado se incluye en la solicitud al servidor (wikipedia, amazon, etc)\n",
    "               }\n",
    "\n",
    "\n",
    "respuesta = requests.get(url, headers=http_headers) #Se hace la solicitud y se guarda la respuesta (200 = OK, 4xx = Error)"
   ]
  },
  {
   "cell_type": "code",
   "execution_count": 14,
   "id": "99cfacd3-7b74-4768-93ca-aa55a1f75069",
   "metadata": {},
   "outputs": [
    {
     "data": {
      "text/plain": [
       "['ltr']"
      ]
     },
     "execution_count": 14,
     "metadata": {},
     "output_type": "execute_result"
    }
   ],
   "source": [
    "parser = html.fromstring(respuesta.text)\n",
    "#parser.xpath(\"//div[@class='central-featured-lang lang1']//strong[text()='English']/following-sibling::small//*/text()\")\n",
    "#parser.xpath('//a[not(@id=\"js-link-box-en\")]/strong/text()')\n",
    "parser.xpath('//a[@id=\"js-link-box-en\"]//span[contains(text(),\"rtic\")]/parent::small/bdi/@dir')"
   ]
  },
  {
   "cell_type": "code",
   "execution_count": 30,
   "id": "787344cb-7e49-4db3-9831-4164046e4452",
   "metadata": {},
   "outputs": [
    {
     "data": {
      "text/plain": [
       "'@'"
      ]
     },
     "execution_count": 30,
     "metadata": {},
     "output_type": "execute_result"
    }
   ],
   "source": [
    "chr(64)"
   ]
  }
 ],
 "metadata": {
  "kernelspec": {
   "display_name": "web-scrapping:Python",
   "language": "python",
   "name": "conda-env-web-scrapping-py"
  },
  "language_info": {
   "codemirror_mode": {
    "name": "ipython",
    "version": 3
   },
   "file_extension": ".py",
   "mimetype": "text/x-python",
   "name": "python",
   "nbconvert_exporter": "python",
   "pygments_lexer": "ipython3",
   "version": "3.10.2"
  }
 },
 "nbformat": 4,
 "nbformat_minor": 5
}
